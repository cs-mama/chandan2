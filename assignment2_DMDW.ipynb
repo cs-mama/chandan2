{
  "nbformat": 4,
  "nbformat_minor": 0,
  "metadata": {
    "colab": {
      "name": "assignment2.DMDW.ipynb",
      "provenance": [],
      "authorship_tag": "ABX9TyPbtxMi3RcaHQwnK9ghYpgI",
      "include_colab_link": true
    },
    "kernelspec": {
      "name": "python3",
      "display_name": "Python 3"
    }
  },
  "cells": [
    {
      "cell_type": "markdown",
      "metadata": {
        "id": "view-in-github",
        "colab_type": "text"
      },
      "source": [
        "<a href=\"https://colab.research.google.com/github/cs-mama/chandan2/blob/main/assignment2_DMDW.ipynb\" target=\"_parent\"><img src=\"https://colab.research.google.com/assets/colab-badge.svg\" alt=\"Open In Colab\"/></a>"
      ]
    },
    {
      "cell_type": "code",
      "metadata": {
        "colab": {
          "base_uri": "https://localhost:8080/",
          "height": 131
        },
        "id": "2tBzFcwjCPGI",
        "outputId": "77244acd-59c9-48ac-9981-7ce8370574a7"
      },
      "source": [
        "#ASSIGNMENT 2\r\n",
        "#10 programs using numpy library\r\n",
        "\r\n",
        "import numpy  as np\r\n",
        "\r\n",
        "#1D array\r\n",
        "a=np.array([1,2,3])\r\n",
        "print(a)\r\n",
        "\r\n",
        "#2D array\r\n",
        "a=np.array([(1,2,3),(4,5,6)])\r\n",
        "print(a)\r\n",
        "\r\n",
        "#finding the dimension of array\r\n",
        "a = np.array([(1,2,3),(4,5,6)])\r\n",
        "print(a.ndim)\r\n",
        "\r\n",
        "#finding the itemsize\r\n",
        "a = np.array([(1,2,3)])\r\n",
        "print(a.itemsize)\r\n",
        "\r\n",
        "#finding the particular datatype\r\n",
        "a = np.array([(1,2,3)])\r\n",
        "print(a.dtype)\r\n",
        "\r\n",
        "#finding the size and dimension of array\r\n",
        "a = np.array([(1,2,3,4,5,6)])\r\n",
        "print(a.size)\r\n",
        "print(a.shape)\r\n",
        "\r\n",
        "#reshaping the dimensions\r\n",
        "a = np.array([(8,9,10),(11,12,13)])\r\n",
        "a=a.reshape(3,2)                   #2,3 dimensional matrix is converted to 3,2\r\n",
        "print(a)\r\n",
        "\r\n",
        "#FINDING THE MAX,MIN AND  sum\r\n",
        "a= np.array([1,2,3])\r\n",
        "print(a.min())\r\n",
        "print(a.max())\r\n",
        "print(a.sum())\r\n",
        "\r\n",
        "#multiplications subtraction and division of two matrices\r\n",
        "x= np.array([(1,2,3),(3,4,5)])\r\n",
        "y= np.array([(1,2,3),(3,4,5)])\r\n",
        "print(x-y)\r\n",
        "print(x*y)\r\n",
        "print(x/y)\r\n",
        "In [ ]:\r\n",
        "from google.colab import files \r\n",
        "uploaded = files.upload()\r\n",
        "Saving Bank_churn_modelling.csv to Bank_churn_modelling.csv\r\n",
        "In [ ]:\r\n",
        "#uploading the dataset\r\n",
        "import pandas as pd\r\n",
        "import io\r\n",
        "df = pd.read_csv(io.BytesIO(uploaded['Bank_churn_modelling.csv'])) \r\n",
        "print(df)\r\n",
        "      RowNumber  CustomerId    Surname  ...  IsActiveMember EstimatedSalary Exited\r\n",
        "0             1    15634602   Hargrave  ...               1       101348.88      1\r\n",
        "1             2    15647311       Hill  ...               1       112542.58      0\r\n",
        "2             3    15619304       Onio  ...               0       113931.57      1\r\n",
        "3             4    15701354       Boni  ...               0        93826.63      0\r\n",
        "4             5    15737888   Mitchell  ...               1        79084.10      0\r\n",
        "...         ...         ...        ...  ...             ...             ...    ...\r\n",
        "9995       9996    15606229   Obijiaku  ...               0        96270.64      0\r\n",
        "9996       9997    15569892  Johnstone  ...               1       101699.77      0\r\n",
        "9997       9998    15584532        Liu  ...               1        42085.58      1\r\n",
        "9998       9999    15682355  Sabbatini  ...               0        92888.52      1\r\n",
        "9999      10000    15628319     Walker  ...               0        38190.78      0\r\n",
        "\r\n",
        "[10000 rows x 14 columns]\r\n",
        "In [ ]:\r\n",
        "#checking for missing values\r\n",
        "df.isnull().sum()\r\n",
        "In [ ]:\r\n",
        "df.shape #dimensions of data set in terms of rows and columns\r\n",
        "In [ ]:\r\n",
        "df.columns#printing columns\r\n",
        "In [ ]:\r\n",
        "df.info()#object represents the string datatype\r\n",
        "In [ ]:\r\n",
        "df.describe() #it describe the statistcal data std-standard deviation\r\n",
        "In [ ]:\r\n",
        "#check for unique values in geography \r\n",
        "df.Geography.unique()\r\n",
        "Out[ ]:\r\n",
        "array(['France', 'Spain', 'Germany'], dtype=object)\r\n",
        "In [ ]:\r\n",
        "#check for duplicates\r\n",
        "df.duplicated().sum()\r\n",
        "Out[ ]:\r\n",
        "0"
      ],
      "execution_count": 3,
      "outputs": [
        {
          "output_type": "error",
          "ename": "SyntaxError",
          "evalue": "ignored",
          "traceback": [
            "\u001b[0;36m  File \u001b[0;32m\"<ipython-input-3-b3d4c91d6eb4>\"\u001b[0;36m, line \u001b[0;32m48\u001b[0m\n\u001b[0;31m    In [ ]:\u001b[0m\n\u001b[0m         ^\u001b[0m\n\u001b[0;31mSyntaxError\u001b[0m\u001b[0;31m:\u001b[0m invalid syntax\n"
          ]
        }
      ]
    }
  ]
}